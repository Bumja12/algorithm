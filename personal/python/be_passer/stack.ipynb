{
 "cells": [
  {
   "cell_type": "code",
   "execution_count": 4,
   "id": "fb6a0d0d-c518-4c8c-a594-0eb530e01a9b",
   "metadata": {},
   "outputs": [
    {
     "name": "stdout",
     "output_type": "stream",
     "text": [
      "1\n",
      "0\n"
     ]
    }
   ],
   "source": [
    "# 문제 11 짝지어 제거하기\n",
    "\n",
    "def solution(word):\n",
    "    stack = []\n",
    "\n",
    "    for char in word:\n",
    "        if not stack or stack[-1] != char:\n",
    "            stack.append(char)\n",
    "            continue\n",
    "\n",
    "        if stack[-1] == char:\n",
    "            stack.pop()\n",
    "\n",
    "    return 1 if not stack else 0\n",
    "    \n",
    "\n",
    "print(solution('baabaa'))\n",
    "print(solution('cdcd'))"
   ]
  },
  {
   "cell_type": "code",
   "execution_count": 36,
   "id": "1c555f92-6013-4919-bb5f-29214771150b",
   "metadata": {},
   "outputs": [
    {
     "name": "stdout",
     "output_type": "stream",
     "text": [
      "(4, 3) 0\n",
      "(3, 2) 1\n",
      "(1, 2) 3\n",
      "(0, 1) 4\n",
      "[4, 3, 1, 1, 0]\n"
     ]
    }
   ],
   "source": [
    "# 문제 12 주식 가격\n",
    "\n",
    "def solution(prices):\n",
    "    stack = []\n",
    "    answer = [0] * len(prices)\n",
    "\n",
    "    for i, price in enumerate(prices):\n",
    "        if stack:\n",
    "            while(True):\n",
    "                if stack[-1][1] > price:\n",
    "                    last = stack.pop()\n",
    "                    answer[last[0]] = i - last[0]\n",
    "                else:\n",
    "                    break\n",
    "            \n",
    "        stack.append((i, price))\n",
    "\n",
    "    while(stack):\n",
    "        last = stack.pop()\n",
    "        print(last, len(prices) - last[0] - 1)\n",
    "        answer[last[0]] = len(prices) - last[0] - 1\n",
    "\n",
    "    return answer\n",
    "\n",
    "print(solution([1,2,3,2,3]))"
   ]
  }
 ],
 "metadata": {
  "kernelspec": {
   "display_name": "Python 3 (ipykernel)",
   "language": "python",
   "name": "python3"
  },
  "language_info": {
   "codemirror_mode": {
    "name": "ipython",
    "version": 3
   },
   "file_extension": ".py",
   "mimetype": "text/x-python",
   "name": "python",
   "nbconvert_exporter": "python",
   "pygments_lexer": "ipython3",
   "version": "3.12.9"
  }
 },
 "nbformat": 4,
 "nbformat_minor": 5
}
