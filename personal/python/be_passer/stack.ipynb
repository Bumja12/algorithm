{
 "cells": [
  {
   "cell_type": "code",
   "execution_count": 4,
   "id": "fb6a0d0d-c518-4c8c-a594-0eb530e01a9b",
   "metadata": {},
   "outputs": [
    {
     "name": "stdout",
     "output_type": "stream",
     "text": [
      "1\n",
      "0\n"
     ]
    }
   ],
   "source": [
    "# 문제 11 짝지어 제거하기\n",
    "\n",
    "def solution(word):\n",
    "    stack = []\n",
    "\n",
    "    for char in word:\n",
    "        if not stack or stack[-1] != char:\n",
    "            stack.append(char)\n",
    "            continue\n",
    "\n",
    "        if stack[-1] == char:\n",
    "            stack.pop()\n",
    "\n",
    "    return 1 if not stack else 0\n",
    "    \n",
    "\n",
    "print(solution('baabaa'))\n",
    "print(solution('cdcd'))"
   ]
  },
  {
   "cell_type": "code",
   "execution_count": 1,
   "id": "1c555f92-6013-4919-bb5f-29214771150b",
   "metadata": {},
   "outputs": [
    {
     "name": "stdout",
     "output_type": "stream",
     "text": [
      "[4, 3, 1, 1, 0]\n"
     ]
    }
   ],
   "source": [
    "# 문제 12 주식 가격\n",
    "\n",
    "def solution(prices):\n",
    "    stack = []\n",
    "    answer = [0] * len(prices)\n",
    "\n",
    "    for i, price in enumerate(prices):\n",
    "        if stack:\n",
    "            while(True):\n",
    "                if stack[-1][1] > price:\n",
    "                    last = stack.pop()\n",
    "                    answer[last[0]] = i - last[0]\n",
    "                else:\n",
    "                    break\n",
    "            \n",
    "        stack.append((i, price))\n",
    "\n",
    "    while(stack):\n",
    "        last = stack.pop()\n",
    "        answer[last[0]] = len(prices) - last[0] - 1\n",
    "\n",
    "    return answer\n",
    "\n",
    "print(solution([1,2,3,2,3]))"
   ]
  },
  {
   "cell_type": "code",
   "execution_count": 12,
   "id": "67a72c75-cfcc-4259-aa81-93a69b7c46ad",
   "metadata": {},
   "outputs": [
    {
     "name": "stdout",
     "output_type": "stream",
     "text": [
      "4\n"
     ]
    }
   ],
   "source": [
    "# 문제 13 크레인 인형 뽑기 게임\n",
    "\n",
    "def solution(board, moves):\n",
    "    stack, count = [], 0\n",
    "    \n",
    "    for move in moves:\n",
    "        for i in range(len(board)):\n",
    "            catch = board[i][move-1]\n",
    "            if catch != 0:\n",
    "                if stack and stack[-1] == catch:\n",
    "                    stack.pop()\n",
    "                    count += 2\n",
    "                else:\n",
    "                    stack.append(catch)\n",
    "                    \n",
    "                board[i][move-1] = 0\n",
    "                break\n",
    "        \n",
    "    return count\n",
    "\n",
    "print(solution([[0,0,0,0,0], [0,0,1,0,3], [0,2,5,0,1], [4,2,4,4,2], [3,5,1,3,1]], [1,5,3,5,1,2,1,4]))"
   ]
  },
  {
   "cell_type": "code",
   "execution_count": 1,
   "id": "1f37474e-d80e-41cb-b825-c109462026ea",
   "metadata": {},
   "outputs": [
    {
     "name": "stdout",
     "output_type": "stream",
     "text": [
      "OOOOXOOO\n"
     ]
    }
   ],
   "source": [
    "# 문제 14 표 편집\n",
    "\n",
    "def find_index(lst, value):\n",
    "    index = next((i for i, x in reversed(list(enumerate(lst))) if x < value), -1)\n",
    "    return 0 if index < 0 else index\n",
    "\n",
    "def solution(n, k, cmd):\n",
    "    answer = [i for i in range(n)]\n",
    "    current = k\n",
    "    stack = []\n",
    "\n",
    "    for c in cmd:\n",
    "        if c[0] == 'D':\n",
    "            current += int(c[2:])\n",
    "            current = current if current < len(answer) else len(answer)-1\n",
    "            \n",
    "        if c[0] == 'U':\n",
    "            current -= int(c[2:])\n",
    "            current = current if current >= 0 else 0\n",
    "            \n",
    "        if c[0] == 'C':\n",
    "            stack.append(answer[current])\n",
    "            del answer[current]\n",
    "\n",
    "            if current == len(answer):\n",
    "                current -= 1\n",
    "                \n",
    "        if c[0] == 'Z':\n",
    "            pop = stack.pop()\n",
    "            key = pop\n",
    "\n",
    "            while(True):\n",
    "                key -= 1\n",
    "                if key == -1:\n",
    "                    answer.insert(0, pop)\n",
    "                    break\n",
    "\n",
    "                index = find_index(answer, key)\n",
    "                if index < 0:\n",
    "                    continue\n",
    "\n",
    "                answer.insert(index+1, pop)\n",
    "                break\n",
    "\n",
    "    a = ['O'] * n\n",
    "\n",
    "    while(stack):\n",
    "        pop = stack.pop()\n",
    "        a[pop] = 'X'\n",
    "\n",
    "    return ''.join(a)\n",
    "    \n",
    "\n",
    "print(solution(8, 2, ['D 2', 'C', 'U 3', 'C', 'D 4', 'C', 'U 2', 'Z', 'Z']))"
   ]
  }
 ],
 "metadata": {
  "kernelspec": {
   "display_name": "Python 3 (ipykernel)",
   "language": "python",
   "name": "python3"
  },
  "language_info": {
   "codemirror_mode": {
    "name": "ipython",
    "version": 3
   },
   "file_extension": ".py",
   "mimetype": "text/x-python",
   "name": "python",
   "nbconvert_exporter": "python",
   "pygments_lexer": "ipython3",
   "version": "3.12.9"
  }
 },
 "nbformat": 4,
 "nbformat_minor": 5
}
