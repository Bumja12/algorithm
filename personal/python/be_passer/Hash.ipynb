{
 "cells": [
  {
   "cell_type": "code",
   "execution_count": 35,
   "id": "93e13fd1-1e95-4736-b0f5-c1cfa5699372",
   "metadata": {},
   "outputs": [
    {
     "name": "stdout",
     "output_type": "stream",
     "text": [
      "True\n",
      "False\n"
     ]
    }
   ],
   "source": [
    "# 문제 18 두 개의 수로 특정값 만들기\n",
    "\n",
    "def solution(arr, target):\n",
    "    dic = {}\n",
    "    \n",
    "    for i in arr:\n",
    "        if i in dic:\n",
    "            return True\n",
    "        \n",
    "        sub = target - i\n",
    "        if sub not in dic:\n",
    "            dic[sub] = 0\n",
    "        \n",
    "    return False\n",
    "\n",
    "print(solution([1,2,3,4,8], 6))\n",
    "print(solution([2,3,5,9], 10))"
   ]
  },
  {
   "cell_type": "code",
   "execution_count": 34,
   "id": "2509a70c-e22c-42ee-9732-20723116e91e",
   "metadata": {},
   "outputs": [
    {
     "name": "stdout",
     "output_type": "stream",
     "text": [
      "True\n",
      "False\n"
     ]
    }
   ],
   "source": [
    "# 문제 18 두 개의 수로 특정값 만들기 - (2)\n",
    "\n",
    "def solution(arr, target):\n",
    "    sub_set = set()\n",
    "    \n",
    "    for i in arr:\n",
    "        if i in sub_set:\n",
    "            return True\n",
    "        \n",
    "        sub_set.add(target - i)\n",
    "        \n",
    "    return False\n",
    "\n",
    "print(solution([1,2,3,4,8], 6))\n",
    "print(solution([2,3,5,9], 10))"
   ]
  },
  {
   "cell_type": "code",
   "execution_count": 28,
   "id": "b0b8048e-c1df-4cd3-b8a3-2a2aaf68d31f",
   "metadata": {},
   "outputs": [
    {
     "name": "stdout",
     "output_type": "stream",
     "text": [
      "[True, False, False, True]\n"
     ]
    }
   ],
   "source": [
    "# 문제 19 문자열 해싱을 이용한 검색 함수 만들기\n",
    "hash_table = []\n",
    "\n",
    "def custom_hash(string):\n",
    "    p = 31\n",
    "    m = 1000000007\n",
    "    hash_value = 0\n",
    "    p_pow = 1\n",
    "    \n",
    "    for char in string:\n",
    "        hash_value = (hash_value + (ord(char) - ord('a') + 1) * p_pow) % m\n",
    "        p_pow = (p_pow * p) % m\n",
    "    \n",
    "    return hash_value\n",
    "\n",
    "def solution(string_list, query_list):\n",
    "    for x in string_list:\n",
    "        hash_table.append(custom_hash(x))\n",
    "    \n",
    "    return list(map(lambda x: (custom_hash(x) in hash_table), query_list))\n",
    "\n",
    "\n",
    "print(solution(['apple', 'banana', 'cherry'], ['banana', 'kiwi', 'melon', 'apple']))"
   ]
  },
  {
   "cell_type": "code",
   "execution_count": 33,
   "id": "7cd0c67f-0861-4ed1-8f76-650ee19ed4d2",
   "metadata": {},
   "outputs": [
    {
     "name": "stdout",
     "output_type": "stream",
     "text": [
      "leo\n"
     ]
    }
   ],
   "source": [
    "# 문제 20 완주하지 못한 선수\n",
    "\n",
    "def solution(participant, completion):\n",
    "    dic = {}\n",
    "    for p in participant:\n",
    "        dic[p] = 1 if p not in dic else dic[p] + 1\n",
    "\n",
    "    for c in completion:\n",
    "        dic[c] -= 1\n",
    "\n",
    "    for name, count in dic.items():\n",
    "        if count > 0:\n",
    "            return name\n",
    "\n",
    "print(solution(['leo', 'kiki', 'eden'], ['eden', 'kiki']))"
   ]
  }
 ],
 "metadata": {
  "kernelspec": {
   "display_name": "Python 3 (ipykernel)",
   "language": "python",
   "name": "python3"
  },
  "language_info": {
   "codemirror_mode": {
    "name": "ipython",
    "version": 3
   },
   "file_extension": ".py",
   "mimetype": "text/x-python",
   "name": "python",
   "nbconvert_exporter": "python",
   "pygments_lexer": "ipython3",
   "version": "3.12.9"
  }
 },
 "nbformat": 4,
 "nbformat_minor": 5
}
