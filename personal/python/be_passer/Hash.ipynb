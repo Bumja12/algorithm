{
 "cells": [
  {
   "cell_type": "code",
   "execution_count": 35,
   "id": "93e13fd1-1e95-4736-b0f5-c1cfa5699372",
   "metadata": {},
   "outputs": [
    {
     "name": "stdout",
     "output_type": "stream",
     "text": [
      "True\n",
      "False\n"
     ]
    }
   ],
   "source": [
    "# 문제 18 두 개의 수로 특정값 만들기\n",
    "\n",
    "def solution(arr, target):\n",
    "    dic = {}\n",
    "    \n",
    "    for i in arr:\n",
    "        if i in dic:\n",
    "            return True\n",
    "        \n",
    "        sub = target - i\n",
    "        if sub not in dic:\n",
    "            dic[sub] = 0\n",
    "        \n",
    "    return False\n",
    "\n",
    "print(solution([1,2,3,4,8], 6))\n",
    "print(solution([2,3,5,9], 10))"
   ]
  },
  {
   "cell_type": "code",
   "execution_count": 34,
   "id": "2509a70c-e22c-42ee-9732-20723116e91e",
   "metadata": {},
   "outputs": [
    {
     "name": "stdout",
     "output_type": "stream",
     "text": [
      "True\n",
      "False\n"
     ]
    }
   ],
   "source": [
    "# 문제 18 두 개의 수로 특정값 만들기 - (2)\n",
    "\n",
    "def solution(arr, target):\n",
    "    sub_set = set()\n",
    "    \n",
    "    for i in arr:\n",
    "        if i in sub_set:\n",
    "            return True\n",
    "        \n",
    "        sub_set.add(target - i)\n",
    "        \n",
    "    return False\n",
    "\n",
    "print(solution([1,2,3,4,8], 6))\n",
    "print(solution([2,3,5,9], 10))"
   ]
  },
  {
   "cell_type": "code",
   "execution_count": 28,
   "id": "b0b8048e-c1df-4cd3-b8a3-2a2aaf68d31f",
   "metadata": {},
   "outputs": [
    {
     "name": "stdout",
     "output_type": "stream",
     "text": [
      "[True, False, False, True]\n"
     ]
    }
   ],
   "source": [
    "# 문제 19 문자열 해싱을 이용한 검색 함수 만들기\n",
    "hash_table = []\n",
    "\n",
    "def custom_hash(string):\n",
    "    p = 31\n",
    "    m = 1000000007\n",
    "    hash_value = 0\n",
    "    p_pow = 1\n",
    "    \n",
    "    for char in string:\n",
    "        hash_value = (hash_value + (ord(char) - ord('a') + 1) * p_pow) % m\n",
    "        p_pow = (p_pow * p) % m\n",
    "    \n",
    "    return hash_value\n",
    "\n",
    "def solution(string_list, query_list):\n",
    "    for x in string_list:\n",
    "        hash_table.append(custom_hash(x))\n",
    "    \n",
    "    return list(map(lambda x: (custom_hash(x) in hash_table), query_list))\n",
    "\n",
    "\n",
    "print(solution(['apple', 'banana', 'cherry'], ['banana', 'kiwi', 'melon', 'apple']))"
   ]
  },
  {
   "cell_type": "code",
   "execution_count": 33,
   "id": "7cd0c67f-0861-4ed1-8f76-650ee19ed4d2",
   "metadata": {},
   "outputs": [
    {
     "name": "stdout",
     "output_type": "stream",
     "text": [
      "leo\n"
     ]
    }
   ],
   "source": [
    "# 문제 20 완주하지 못한 선수\n",
    "\n",
    "def solution(participant, completion):\n",
    "    dic = {}\n",
    "    for p in participant:\n",
    "        dic[p] = 1 if p not in dic else dic[p] + 1\n",
    "\n",
    "    for c in completion:\n",
    "        dic[c] -= 1\n",
    "\n",
    "    for name, count in dic.items():\n",
    "        if count > 0:\n",
    "            return name\n",
    "\n",
    "print(solution(['leo', 'kiki', 'eden'], ['eden', 'kiki']))"
   ]
  },
  {
   "cell_type": "code",
   "execution_count": 20,
   "id": "25bd80d7-ebcd-4a3b-bd33-10225f884497",
   "metadata": {},
   "outputs": [
    {
     "name": "stdout",
     "output_type": "stream",
     "text": [
      "3\n"
     ]
    }
   ],
   "source": [
    "# 문제 21 할인 행사\n",
    "\n",
    "def solution(want, number, discount):\n",
    "    dic = dict(zip(want, number))\n",
    "    answer = 0\n",
    "\n",
    "    for i, x in enumerate(discount):\n",
    "        if x in dic:\n",
    "            dic[x] -= 1\n",
    "        \n",
    "        if i >= 10:\n",
    "            a = discount[i-10]\n",
    "    \n",
    "            if a in dic:\n",
    "                dic[a] += 1\n",
    "    \n",
    "            value_set = set(dic.values())\n",
    "            if all(v == 0 for v in dic.values()):\n",
    "                answer += 1\n",
    "    \n",
    "    return answer\n",
    "\n",
    "print(solution(['banana', 'apple', 'rice', 'pork', 'pot'], [3, 2, 2, 2, 1], ['chicken', 'apple', 'apple', 'banana', 'rice', 'apple', 'pork', 'banana', 'pork', 'rice', 'pot', 'banana', 'apple', 'banana']))"
   ]
  },
  {
   "cell_type": "code",
   "execution_count": 26,
   "id": "43c934b0-d71f-4bf1-86cb-d9db3d0cc8b9",
   "metadata": {},
   "outputs": [
    {
     "name": "stdout",
     "output_type": "stream",
     "text": [
      "['Prodo님이 들어왔습니다.', 'Ryan님이 들어왔습니다.', 'Prodo님이 나갔습니다.', 'Prodo님이 들어왔습니다.']\n"
     ]
    }
   ],
   "source": [
    "# 문제 22 오픈 채팅방\n",
    "\n",
    "def enter(name):\n",
    "    return name + '님이 들어왔습니다.'\n",
    "\n",
    "def leave(name):\n",
    "    return name + '님이 나갔습니다.'\n",
    "\n",
    "def solution(record):\n",
    "    dic = {}\n",
    "    action, ids = [], []\n",
    "\n",
    "    for r in record:\n",
    "        arr = r.split()\n",
    "\n",
    "        if len(arr) == 3:\n",
    "            dic[arr[1]] = arr[2]\n",
    "\n",
    "        if arr[0] == 'Enter':\n",
    "            action.append(enter)\n",
    "            ids.append(arr[1])\n",
    "        elif arr[0] =='Leave':\n",
    "            action.append(leave)\n",
    "            ids.append(arr[1])\n",
    "\n",
    "    return [fn(dic[ids[i]]) for i, fn in enumerate(action)]\n",
    "\n",
    "print(solution(['Enter uid1234 Muzi', 'Enter uid4567 Prodo', 'Leave uid1234', 'Enter uid1234 Prodo', 'Change uid4567 Ryan']))"
   ]
  }
 ],
 "metadata": {
  "kernelspec": {
   "display_name": "Python 3 (ipykernel)",
   "language": "python",
   "name": "python3"
  },
  "language_info": {
   "codemirror_mode": {
    "name": "ipython",
    "version": 3
   },
   "file_extension": ".py",
   "mimetype": "text/x-python",
   "name": "python",
   "nbconvert_exporter": "python",
   "pygments_lexer": "ipython3",
   "version": "3.12.9"
  }
 },
 "nbformat": 4,
 "nbformat_minor": 5
}
