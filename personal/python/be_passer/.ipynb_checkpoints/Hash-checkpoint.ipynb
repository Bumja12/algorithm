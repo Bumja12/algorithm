{
 "cells": [
  {
   "cell_type": "code",
   "execution_count": 30,
   "id": "93e13fd1-1e95-4736-b0f5-c1cfa5699372",
   "metadata": {},
   "outputs": [
    {
     "name": "stdout",
     "output_type": "stream",
     "text": [
      "True\n",
      "False\n"
     ]
    }
   ],
   "source": [
    "# 문제 18 두 개의 수로 특정값 만들기\n",
    "\n",
    "def solution(arr, target):\n",
    "    dic = {}\n",
    "    \n",
    "    for i in arr:\n",
    "        if i in dic:\n",
    "            return True\n",
    "        \n",
    "        sub = target - i\n",
    "        if sub not in dic:\n",
    "            dic[sub] = 0\n",
    "        \n",
    "    return False\n",
    "\n",
    "print(solution([1,2,3,4,8], 6))\n",
    "print(solution([2,3,5,9], 10))"
   ]
  },
  {
   "cell_type": "code",
   "execution_count": 29,
   "id": "2509a70c-e22c-42ee-9732-20723116e91e",
   "metadata": {},
   "outputs": [
    {
     "name": "stdout",
     "output_type": "stream",
     "text": [
      "True\n",
      "False\n"
     ]
    }
   ],
   "source": [
    "# 문제 18 두 개의 수로 특정값 만들기 - (2)\n",
    "\n",
    "def solution(arr, target):\n",
    "    sub_set = set()\n",
    "    \n",
    "    for i in arr:\n",
    "        if i in sub_set:\n",
    "            return True\n",
    "        \n",
    "        sub_set.add(target - i)\n",
    "        \n",
    "    return False\n",
    "\n",
    "print(solution([1,2,3,4,8], 6))\n",
    "print(solution([2,3,5,9], 10))"
   ]
  }
 ],
 "metadata": {
  "kernelspec": {
   "display_name": "Python 3 (ipykernel)",
   "language": "python",
   "name": "python3"
  },
  "language_info": {
   "codemirror_mode": {
    "name": "ipython",
    "version": 3
   },
   "file_extension": ".py",
   "mimetype": "text/x-python",
   "name": "python",
   "nbconvert_exporter": "python",
   "pygments_lexer": "ipython3",
   "version": "3.12.9"
  }
 },
 "nbformat": 4,
 "nbformat_minor": 5
}
