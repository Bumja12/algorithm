{
 "cells": [
  {
   "cell_type": "code",
   "execution_count": 19,
   "id": "b92a63fb-e895-49e4-9999-98790008699e",
   "metadata": {},
   "outputs": [
    {
     "name": "stdout",
     "output_type": "stream",
     "text": [
      "3\n"
     ]
    }
   ],
   "source": [
    "# 문제 15 요세푸스 문제\n",
    "from collections import deque\n",
    "\n",
    "def solution(N, K):\n",
    "    q = deque([i+1 for i in range(N)])\n",
    "\n",
    "    while(len(q) > 1):\n",
    "        for i in range(K):\n",
    "            pop = q.popleft()\n",
    "            if i < K-1:\n",
    "                q.append(pop)\n",
    "    \n",
    "    return q.pop()\n",
    "    \n",
    "\n",
    "print(solution(5, 2))"
   ]
  },
  {
   "cell_type": "code",
   "execution_count": 41,
   "id": "b9cb9ae8-8448-4fee-b59b-40644eeadb41",
   "metadata": {},
   "outputs": [
    {
     "name": "stdout",
     "output_type": "stream",
     "text": [
      "[2, 1]\n",
      "[1, 3, 2]\n"
     ]
    }
   ],
   "source": [
    "# 문제 16 기능 개발\n",
    "from collections import deque\n",
    "\n",
    "def solution(progresses, speeds):\n",
    "    q1 = deque(progresses)\n",
    "    q2 = deque(speeds)\n",
    "    answer = []\n",
    "    while(len(q1) > 0):\n",
    "        for i in range(len(q1)):\n",
    "            q1[i] += q2[i]\n",
    "            \n",
    "        count = 0\n",
    "        while(len(q1) > 0 and q1[0] >= 100):\n",
    "            q1.popleft()\n",
    "            q2.popleft()\n",
    "            count += 1\n",
    "\n",
    "        if count > 0:\n",
    "            answer.append(count)\n",
    "        \n",
    "    return answer\n",
    "            \n",
    "print(solution([93, 30, 55], [1, 30, 5]))\n",
    "print(solution([95,90,99,99,80,99], [1,1,1,1,1,1]))"
   ]
  },
  {
   "cell_type": "code",
   "execution_count": 51,
   "id": "04e199e4-3073-4323-9d71-b21324512ac1",
   "metadata": {},
   "outputs": [
    {
     "name": "stdout",
     "output_type": "stream",
     "text": [
      "YES\n",
      "NO\n"
     ]
    }
   ],
   "source": [
    "# 문제 17 카드 뭉치\n",
    "from collections import deque\n",
    "\n",
    "def solution(cards1, cards2, goal):\n",
    "    q1 = deque(cards1)\n",
    "    q2 = deque(cards2)\n",
    "    goalQ = deque(goal)\n",
    "\n",
    "    while goalQ:\n",
    "        pop = goalQ.popleft()\n",
    "\n",
    "        if q1 and q1[0] == pop:\n",
    "            q1.popleft()\n",
    "            continue\n",
    "            \n",
    "        if q2 and q2[0] == pop:\n",
    "            q2.popleft()\n",
    "            continue\n",
    "\n",
    "        return 'NO'\n",
    "\n",
    "    return 'YES'\n",
    "\n",
    "print(solution(['i','drink','water'], ['want', 'to'], ['i','want', 'to', 'drink','water']))\n",
    "print(solution(['i','water','drink'], ['want', 'to'], ['i','want', 'to', 'drink','water']))"
   ]
  }
 ],
 "metadata": {
  "kernelspec": {
   "display_name": "Python 3 (ipykernel)",
   "language": "python",
   "name": "python3"
  },
  "language_info": {
   "codemirror_mode": {
    "name": "ipython",
    "version": 3
   },
   "file_extension": ".py",
   "mimetype": "text/x-python",
   "name": "python",
   "nbconvert_exporter": "python",
   "pygments_lexer": "ipython3",
   "version": "3.12.9"
  }
 },
 "nbformat": 4,
 "nbformat_minor": 5
}
